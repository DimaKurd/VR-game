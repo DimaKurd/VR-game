{
 "cells": [
  {
   "cell_type": "code",
   "execution_count": 55,
   "metadata": {
    "collapsed": true
   },
   "outputs": [
    {
     "name": "stdout",
     "output_type": "stream",
     "text": [
      "[ 68.  69.  70.  70.  86.  86.  86.  90.  90.  88.  88.  89.  89.  87.\n",
      "  87.  84.  85.  85. 110.  94.  94.  82.  80.  80.  80.  80.  80.  85.\n",
      "  89.  91.  90.  89.  90.  91.  91.  89.  88.  88.  86.  86.  86.  87.\n",
      "  88.  88.  88.  88.  88.  85.  86.  88.  88.  88.  85.  84.  83.  83.\n",
      "  85.  86.  85.  81.  81.  80.  78.  74.  74.  76.  79.  83.  83.  83.\n",
      "  85.  90.  91.  91.  89.  84.  77.  72.  72.  72.  73.  75.  75.  75.\n",
      "  73.  70.  72.  72.  75.  78.  81.  81.  80.  79.  82.  83.  83.  79.\n",
      "  81.  84.  87.  89.  86.  83.  80.  75.  74.  72.  70.  74.  77.  79.\n",
      "  84.  86.  86.  85.  78.  78.  79.  79.  82.  82.  82.  82.  82.  82.\n",
      "  82.  85.  87.  88.  88.  87. 114. 114. 118. 118.  98.  97.  94.  90.\n",
      "  90.  87.  86.  88.  92.  95.  95.  92.  90.  90.  89.  87.  86.  87.\n",
      "  88.  83.  89.  90.  89.  83.  82.  82.  74.  73.  73.  73.  74.  75.\n",
      "  75.  71.  73.  71.  70.  72.  73.  73.  73.  72.  66.  65.  69.  69.\n",
      "  72.  71.  69.  72.  69.  69.  67.  70.  69.  72.  72.  72.  76.  77.\n",
      "  82.  80.  74.  73.  74.  76.  82.  82.  92.  94.  98.  95.  95.  95.\n",
      "  95.  82.  74.  70.  72.  74.  78.  78.  78.  82.  82.  81.  78.  76.\n",
      "  76.  76.  76.  77.  80.  86.  90.  90.  87.  87.  87.  81.  79.  78.\n",
      "  78.  80.  82.  86.  86.  81.  79.  80.  82.  82.  86.  88.  88.  82.\n",
      "  82.  78.  78.  79.  80.  82.  84.  84.  78.  79.  79.  79.  81.  81.\n",
      "  80.  77.  76.  77.  82.  85.  85.  85.  85.  85.  79.  81.  82.  82.\n",
      "  85.  83.  79.  76.  73.  70.  70.  72.  71.  69.  68.  69.  70.  72.\n",
      "  72.  70.  69.  65.  65.  65.]\n"
     ]
    }
   ],
   "source": [
    "from urllib.request import urlopen\n",
    "import numpy as np\n",
    "import time\n",
    "\n",
    "num_obs = 300\n",
    "values = np.zeros(num_obs)\n",
    "for i in range(num_obs):\n",
    "    value = int(urlopen('http://127.0.0.1:8000/hr/get').read().decode())\n",
    "    values[i] = value\n",
    "    #print(value)\n",
    "    time.sleep(1)\n",
    "\n",
    "print(values)"
   ]
  },
  {
   "cell_type": "code",
   "execution_count": 56,
   "outputs": [],
   "source": [
    "import scipy.stats as stats\n",
    "\n",
    "CI = (60*1000)/values\n",
    "dRR = max(CI)-min(CI)\n",
    "M = stats.mode(CI).mode"
   ],
   "metadata": {
    "collapsed": false,
    "pycharm": {
     "name": "#%%\n"
    }
   }
  },
  {
   "cell_type": "code",
   "execution_count": 57,
   "outputs": [
    {
     "data": {
      "text/plain": "Text(0.5, 1.0, 'Индекс напряженности равен [37.90780922]')"
     },
     "execution_count": 57,
     "metadata": {},
     "output_type": "execute_result"
    },
    {
     "data": {
      "text/plain": "<Figure size 432x288 with 1 Axes>",
      "image/png": "[encoded data removed]"
     },
     "metadata": {
      "needs_background": "light"
     },
     "output_type": "display_data"
    }
   ],
   "source": [
    "import matplotlib.pyplot as plt\n",
    "n, bins, p = plt.hist(CI, bins=range(int(min(CI)), int(max(CI)), 50), edgecolor='black', label='Распределение кардиоинтервалов')\n",
    "plt.vlines(M, ymin=0, ymax=max(n), color='r', label='Мода')\n",
    "plt.legend()\n",
    "\n",
    "AM = 0\n",
    "for i in range(len(bins)):\n",
    "    if bins[i] > M:\n",
    "        AM = n[i-1]\n",
    "        break\n",
    "\n",
    "IN = (AM/num_obs)*100/(2*M/1000*(dRR/1000))\n",
    "plt.title('Индекс напряженности равен {}'.format(IN))\n"
   ],
   "metadata": {
    "collapsed": false,
    "pycharm": {
     "name": "#%%\n"
    }
   }
  }
 ],
 "metadata": {
  "kernelspec": {
   "display_name": "Python 3",
   "language": "python",
   "name": "python3"
  },
  "language_info": {
   "codemirror_mode": {
    "name": "ipython",
    "version": 2
   },
   "file_extension": ".py",
   "mimetype": "text/x-python",
   "name": "python",
   "nbconvert_exporter": "python",
   "pygments_lexer": "ipython2",
   "version": "2.7.6"
  }
 },
 "nbformat": 4,
 "nbformat_minor": 0
}